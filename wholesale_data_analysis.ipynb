{
 "cells": [
  {
   "cell_type": "markdown",
   "id": "dc0318d6",
   "metadata": {},
   "source": [
    "## Part 1: Explore the Data\n",
    "\n",
    "Import the data and use Pandas to learn more about the dataset."
   ]
  },
  {
   "cell_type": "code",
   "execution_count": 8,
   "id": "e076f57f",
   "metadata": {},
   "outputs": [
    {
     "data": {
      "text/html": [
       "<div>\n",
       "<style scoped>\n",
       "    .dataframe tbody tr th:only-of-type {\n",
       "        vertical-align: middle;\n",
       "    }\n",
       "\n",
       "    .dataframe tbody tr th {\n",
       "        vertical-align: top;\n",
       "    }\n",
       "\n",
       "    .dataframe thead th {\n",
       "        text-align: right;\n",
       "    }\n",
       "</style>\n",
       "<table border=\"1\" class=\"dataframe\">\n",
       "  <thead>\n",
       "    <tr style=\"text-align: right;\">\n",
       "      <th></th>\n",
       "      <th>first</th>\n",
       "      <th>last</th>\n",
       "      <th>job</th>\n",
       "      <th>phone</th>\n",
       "      <th>email</th>\n",
       "      <th>client_id</th>\n",
       "      <th>order_id</th>\n",
       "      <th>order_date</th>\n",
       "      <th>order_week</th>\n",
       "      <th>order_year</th>\n",
       "      <th>item_id</th>\n",
       "      <th>category</th>\n",
       "      <th>subcategory</th>\n",
       "      <th>unit_price</th>\n",
       "      <th>unit_cost</th>\n",
       "      <th>unit_weight</th>\n",
       "      <th>qty</th>\n",
       "      <th>line_number</th>\n",
       "    </tr>\n",
       "  </thead>\n",
       "  <tbody>\n",
       "    <tr>\n",
       "      <th>0</th>\n",
       "      <td>Donald</td>\n",
       "      <td>Harding</td>\n",
       "      <td>Immunologist</td>\n",
       "      <td>793-904-7725x39308</td>\n",
       "      <td>harding.donald.7185@sullivan.com</td>\n",
       "      <td>58515</td>\n",
       "      <td>8953482</td>\n",
       "      <td>2023-04-28</td>\n",
       "      <td>17</td>\n",
       "      <td>2023</td>\n",
       "      <td>EUD29711-63-6U</td>\n",
       "      <td>decor</td>\n",
       "      <td>wall art</td>\n",
       "      <td>1096.80</td>\n",
       "      <td>762.71</td>\n",
       "      <td>7.50</td>\n",
       "      <td>105</td>\n",
       "      <td>1</td>\n",
       "    </tr>\n",
       "    <tr>\n",
       "      <th>1</th>\n",
       "      <td>Tiffany</td>\n",
       "      <td>Myers</td>\n",
       "      <td>Music therapist</td>\n",
       "      <td>201.442.4543x942</td>\n",
       "      <td>myers.t.6537@ferguson-johnson.net</td>\n",
       "      <td>37609</td>\n",
       "      <td>8069089</td>\n",
       "      <td>2023-05-19</td>\n",
       "      <td>20</td>\n",
       "      <td>2023</td>\n",
       "      <td>XDA18116-89-4A</td>\n",
       "      <td>consumables</td>\n",
       "      <td>pens</td>\n",
       "      <td>24.95</td>\n",
       "      <td>15.09</td>\n",
       "      <td>1.49</td>\n",
       "      <td>21</td>\n",
       "      <td>0</td>\n",
       "    </tr>\n",
       "    <tr>\n",
       "      <th>2</th>\n",
       "      <td>Shannon</td>\n",
       "      <td>Watson</td>\n",
       "      <td>Immunologist</td>\n",
       "      <td>687.737.9424x8503</td>\n",
       "      <td>swatson8146@payne.net</td>\n",
       "      <td>57113</td>\n",
       "      <td>1902144</td>\n",
       "      <td>2023-01-29</td>\n",
       "      <td>4</td>\n",
       "      <td>2023</td>\n",
       "      <td>ABE59463-05-7E</td>\n",
       "      <td>software</td>\n",
       "      <td>project management</td>\n",
       "      <td>13.52</td>\n",
       "      <td>7.86</td>\n",
       "      <td>1.68</td>\n",
       "      <td>39</td>\n",
       "      <td>6</td>\n",
       "    </tr>\n",
       "    <tr>\n",
       "      <th>3</th>\n",
       "      <td>Nathan</td>\n",
       "      <td>Baker</td>\n",
       "      <td>Accounting technician</td>\n",
       "      <td>827-788-8123x012</td>\n",
       "      <td>bakernathan@benson.com</td>\n",
       "      <td>46554</td>\n",
       "      <td>9031802</td>\n",
       "      <td>2023-04-25</td>\n",
       "      <td>17</td>\n",
       "      <td>2023</td>\n",
       "      <td>ZMM00836-65-0C</td>\n",
       "      <td>consumables</td>\n",
       "      <td>pens</td>\n",
       "      <td>36.42</td>\n",
       "      <td>24.85</td>\n",
       "      <td>1.23</td>\n",
       "      <td>29</td>\n",
       "      <td>3</td>\n",
       "    </tr>\n",
       "    <tr>\n",
       "      <th>4</th>\n",
       "      <td>Christina</td>\n",
       "      <td>Schwartz</td>\n",
       "      <td>Chiropractor</td>\n",
       "      <td>265-829-3643</td>\n",
       "      <td>christinaschwartz9252@mcconnell.com</td>\n",
       "      <td>92089</td>\n",
       "      <td>1322274</td>\n",
       "      <td>2023-05-28</td>\n",
       "      <td>21</td>\n",
       "      <td>2023</td>\n",
       "      <td>BZX55559-12-3X</td>\n",
       "      <td>consumables</td>\n",
       "      <td>misc</td>\n",
       "      <td>195.10</td>\n",
       "      <td>108.17</td>\n",
       "      <td>46.43</td>\n",
       "      <td>20</td>\n",
       "      <td>1</td>\n",
       "    </tr>\n",
       "  </tbody>\n",
       "</table>\n",
       "</div>"
      ],
      "text/plain": [
       "       first      last                    job               phone  \\\n",
       "0     Donald   Harding           Immunologist  793-904-7725x39308   \n",
       "1    Tiffany     Myers        Music therapist    201.442.4543x942   \n",
       "2    Shannon    Watson           Immunologist   687.737.9424x8503   \n",
       "3     Nathan     Baker  Accounting technician    827-788-8123x012   \n",
       "4  Christina  Schwartz           Chiropractor        265-829-3643   \n",
       "\n",
       "                                 email  client_id  order_id  order_date  \\\n",
       "0     harding.donald.7185@sullivan.com      58515   8953482  2023-04-28   \n",
       "1    myers.t.6537@ferguson-johnson.net      37609   8069089  2023-05-19   \n",
       "2                swatson8146@payne.net      57113   1902144  2023-01-29   \n",
       "3               bakernathan@benson.com      46554   9031802  2023-04-25   \n",
       "4  christinaschwartz9252@mcconnell.com      92089   1322274  2023-05-28   \n",
       "\n",
       "   order_week  order_year         item_id     category         subcategory  \\\n",
       "0          17        2023  EUD29711-63-6U        decor            wall art   \n",
       "1          20        2023  XDA18116-89-4A  consumables                pens   \n",
       "2           4        2023  ABE59463-05-7E     software  project management   \n",
       "3          17        2023  ZMM00836-65-0C  consumables                pens   \n",
       "4          21        2023  BZX55559-12-3X  consumables                misc   \n",
       "\n",
       "   unit_price  unit_cost  unit_weight  qty  line_number  \n",
       "0     1096.80     762.71         7.50  105            1  \n",
       "1       24.95      15.09         1.49   21            0  \n",
       "2       13.52       7.86         1.68   39            6  \n",
       "3       36.42      24.85         1.23   29            3  \n",
       "4      195.10     108.17        46.43   20            1  "
      ]
     },
     "execution_count": 8,
     "metadata": {},
     "output_type": "execute_result"
    }
   ],
   "source": [
    "import pandas as pd\n",
    "\n",
    "df = pd.read_csv('Resources/client_dataset.csv')\n",
    "df.head()"
   ]
  },
  {
   "cell_type": "code",
   "execution_count": 10,
   "id": "71b9bbd2",
   "metadata": {},
   "outputs": [
    {
     "name": "stdout",
     "output_type": "stream",
     "text": [
      "Index(['first', 'last', 'job', 'phone', 'email', 'client_id', 'order_id',\n",
      "       'order_date', 'order_week', 'order_year', 'item_id', 'category',\n",
      "       'subcategory', 'unit_price', 'unit_cost', 'unit_weight', 'qty',\n",
      "       'line_number'],\n",
      "      dtype='object')\n"
     ]
    }
   ],
   "source": [
    "# View the column names in the data\n",
    "print(df.columns)\n"
   ]
  },
  {
   "cell_type": "code",
   "execution_count": 5,
   "id": "bc0f4172",
   "metadata": {},
   "outputs": [
    {
     "data": {
      "text/html": [
       "<div>\n",
       "<style scoped>\n",
       "    .dataframe tbody tr th:only-of-type {\n",
       "        vertical-align: middle;\n",
       "    }\n",
       "\n",
       "    .dataframe tbody tr th {\n",
       "        vertical-align: top;\n",
       "    }\n",
       "\n",
       "    .dataframe thead th {\n",
       "        text-align: right;\n",
       "    }\n",
       "</style>\n",
       "<table border=\"1\" class=\"dataframe\">\n",
       "  <thead>\n",
       "    <tr style=\"text-align: right;\">\n",
       "      <th></th>\n",
       "      <th>client_id</th>\n",
       "      <th>order_id</th>\n",
       "      <th>order_week</th>\n",
       "      <th>order_year</th>\n",
       "      <th>unit_price</th>\n",
       "      <th>unit_cost</th>\n",
       "      <th>unit_weight</th>\n",
       "      <th>qty</th>\n",
       "      <th>line_number</th>\n",
       "    </tr>\n",
       "  </thead>\n",
       "  <tbody>\n",
       "    <tr>\n",
       "      <th>count</th>\n",
       "      <td>54639.000000</td>\n",
       "      <td>5.463900e+04</td>\n",
       "      <td>54639.000000</td>\n",
       "      <td>54639.000000</td>\n",
       "      <td>54639.000000</td>\n",
       "      <td>54639.000000</td>\n",
       "      <td>54639.000000</td>\n",
       "      <td>5.463900e+04</td>\n",
       "      <td>54639.000000</td>\n",
       "    </tr>\n",
       "    <tr>\n",
       "      <th>mean</th>\n",
       "      <td>54837.869416</td>\n",
       "      <td>5.470190e+06</td>\n",
       "      <td>11.359139</td>\n",
       "      <td>2022.993064</td>\n",
       "      <td>136.267207</td>\n",
       "      <td>99.446073</td>\n",
       "      <td>5.004116</td>\n",
       "      <td>5.702646e+02</td>\n",
       "      <td>2.979667</td>\n",
       "    </tr>\n",
       "    <tr>\n",
       "      <th>std</th>\n",
       "      <td>25487.438231</td>\n",
       "      <td>2.599807e+06</td>\n",
       "      <td>7.023499</td>\n",
       "      <td>0.082997</td>\n",
       "      <td>183.873135</td>\n",
       "      <td>133.164267</td>\n",
       "      <td>5.326599</td>\n",
       "      <td>1.879552e+04</td>\n",
       "      <td>2.436320</td>\n",
       "    </tr>\n",
       "    <tr>\n",
       "      <th>min</th>\n",
       "      <td>10033.000000</td>\n",
       "      <td>1.000886e+06</td>\n",
       "      <td>1.000000</td>\n",
       "      <td>2022.000000</td>\n",
       "      <td>0.010000</td>\n",
       "      <td>0.010000</td>\n",
       "      <td>0.000000</td>\n",
       "      <td>0.000000e+00</td>\n",
       "      <td>0.000000</td>\n",
       "    </tr>\n",
       "    <tr>\n",
       "      <th>25%</th>\n",
       "      <td>33593.000000</td>\n",
       "      <td>3.196372e+06</td>\n",
       "      <td>6.000000</td>\n",
       "      <td>2023.000000</td>\n",
       "      <td>20.800000</td>\n",
       "      <td>14.840000</td>\n",
       "      <td>1.450000</td>\n",
       "      <td>3.200000e+01</td>\n",
       "      <td>1.000000</td>\n",
       "    </tr>\n",
       "    <tr>\n",
       "      <th>50%</th>\n",
       "      <td>53305.000000</td>\n",
       "      <td>5.496966e+06</td>\n",
       "      <td>11.000000</td>\n",
       "      <td>2023.000000</td>\n",
       "      <td>68.310000</td>\n",
       "      <td>49.890000</td>\n",
       "      <td>3.240000</td>\n",
       "      <td>6.800000e+01</td>\n",
       "      <td>3.000000</td>\n",
       "    </tr>\n",
       "    <tr>\n",
       "      <th>75%</th>\n",
       "      <td>78498.000000</td>\n",
       "      <td>7.733869e+06</td>\n",
       "      <td>17.000000</td>\n",
       "      <td>2023.000000</td>\n",
       "      <td>173.160000</td>\n",
       "      <td>125.570000</td>\n",
       "      <td>6.890000</td>\n",
       "      <td>1.700000e+02</td>\n",
       "      <td>5.000000</td>\n",
       "    </tr>\n",
       "    <tr>\n",
       "      <th>max</th>\n",
       "      <td>99984.000000</td>\n",
       "      <td>9.998480e+06</td>\n",
       "      <td>52.000000</td>\n",
       "      <td>2023.000000</td>\n",
       "      <td>1396.230000</td>\n",
       "      <td>846.270000</td>\n",
       "      <td>46.430000</td>\n",
       "      <td>3.958244e+06</td>\n",
       "      <td>9.000000</td>\n",
       "    </tr>\n",
       "  </tbody>\n",
       "</table>\n",
       "</div>"
      ],
      "text/plain": [
       "          client_id      order_id    order_week    order_year    unit_price  \\\n",
       "count  54639.000000  5.463900e+04  54639.000000  54639.000000  54639.000000   \n",
       "mean   54837.869416  5.470190e+06     11.359139   2022.993064    136.267207   \n",
       "std    25487.438231  2.599807e+06      7.023499      0.082997    183.873135   \n",
       "min    10033.000000  1.000886e+06      1.000000   2022.000000      0.010000   \n",
       "25%    33593.000000  3.196372e+06      6.000000   2023.000000     20.800000   \n",
       "50%    53305.000000  5.496966e+06     11.000000   2023.000000     68.310000   \n",
       "75%    78498.000000  7.733869e+06     17.000000   2023.000000    173.160000   \n",
       "max    99984.000000  9.998480e+06     52.000000   2023.000000   1396.230000   \n",
       "\n",
       "          unit_cost   unit_weight           qty   line_number  \n",
       "count  54639.000000  54639.000000  5.463900e+04  54639.000000  \n",
       "mean      99.446073      5.004116  5.702646e+02      2.979667  \n",
       "std      133.164267      5.326599  1.879552e+04      2.436320  \n",
       "min        0.010000      0.000000  0.000000e+00      0.000000  \n",
       "25%       14.840000      1.450000  3.200000e+01      1.000000  \n",
       "50%       49.890000      3.240000  6.800000e+01      3.000000  \n",
       "75%      125.570000      6.890000  1.700000e+02      5.000000  \n",
       "max      846.270000     46.430000  3.958244e+06      9.000000  "
      ]
     },
     "execution_count": 5,
     "metadata": {},
     "output_type": "execute_result"
    }
   ],
   "source": [
    "# Use the describe function to gather some basic statistics\n",
    "df.describe()\n",
    "\n"
   ]
  },
  {
   "cell_type": "code",
   "execution_count": null,
   "id": "b24b53cc",
   "metadata": {},
   "outputs": [],
   "source": [
    "# Use this space to do any additional research\n",
    "# and familiarize yourself with the data.\n",
    "\n",
    "# For example, you could look at the data types\n",
    "# of each column to understand what the data represents.\n",
    "\n",
    "# View the data types of each column\n",
    "print(df.dtypes)\n",
    "\n",
    "\n",
    "\n",
    "\n"
   ]
  },
  {
   "cell_type": "code",
   "execution_count": 14,
   "id": "526d4f9c",
   "metadata": {},
   "outputs": [
    {
     "name": "stdout",
     "output_type": "stream",
     "text": [
      "first            360\n",
      "last             477\n",
      "job              498\n",
      "phone            999\n",
      "email            999\n",
      "client_id        999\n",
      "order_id       10000\n",
      "order_date       150\n",
      "order_week        23\n",
      "order_year         2\n",
      "item_id          500\n",
      "category           5\n",
      "subcategory       18\n",
      "unit_price       490\n",
      "unit_cost        487\n",
      "unit_weight      393\n",
      "qty             2911\n",
      "line_number       10\n",
      "dtype: int64\n"
     ]
    }
   ],
   "source": [
    "# View the number of unique values in each column\n",
    "\n",
    "print(df.nunique())\n",
    "\n",
    "\n"
   ]
  },
  {
   "cell_type": "code",
   "execution_count": 15,
   "id": "f51b5dda",
   "metadata": {},
   "outputs": [
    {
     "name": "stdout",
     "output_type": "stream",
     "text": [
      "first          0\n",
      "last           0\n",
      "job            0\n",
      "phone          0\n",
      "email          0\n",
      "client_id      0\n",
      "order_id       0\n",
      "order_date     0\n",
      "order_week     0\n",
      "order_year     0\n",
      "item_id        0\n",
      "category       0\n",
      "subcategory    0\n",
      "unit_price     0\n",
      "unit_cost      0\n",
      "unit_weight    0\n",
      "qty            0\n",
      "line_number    0\n",
      "dtype: int64\n"
     ]
    }
   ],
   "source": [
    "# View the number of missing values in each column\n",
    "print(df.isnull().sum())\n",
    "\n"
   ]
  },
  {
   "cell_type": "code",
   "execution_count": 17,
   "id": "89e4ed88",
   "metadata": {},
   "outputs": [
    {
     "name": "stdout",
     "output_type": "stream",
     "text": [
      "(54639, 18)\n"
     ]
    }
   ],
   "source": [
    "# View the number of rows and columns in the data\n",
    "print(df.shape)"
   ]
  },
  {
   "cell_type": "code",
   "execution_count": 27,
   "id": "551cb358",
   "metadata": {},
   "outputs": [
    {
     "name": "stdout",
     "output_type": "stream",
     "text": [
      "category\n",
      "consumables    23538\n",
      "furniture      11915\n",
      "software        8400\n",
      "decor           7954\n",
      "electronics     2832\n",
      "Name: count, dtype: int64\n"
     ]
    }
   ],
   "source": [
    "# What three item categories had the most entries?\n",
    "print(df['category'].value_counts().head(3))\n",
    "\n"
   ]
  },
  {
   "cell_type": "code",
   "execution_count": 41,
   "id": "5f54e2cf",
   "metadata": {},
   "outputs": [
    {
     "name": "stdout",
     "output_type": "stream",
     "text": [
      "The category with the most entries is 'consumables' with 23538 entries.\n",
      "The subcategory with the most entries is 'bathroom supplies' with 6424 entries.\n"
     ]
    }
   ],
   "source": [
    "# For the category with the most entries, which subcategory had the most entries?\n",
    "# the consumables category has the most entries\n",
    "\n",
    "# Identify the category with the most entries\n",
    "most_common_category = df['category'].value_counts().idxmax()\n",
    "\n",
    "# # For the category with the most entries, find the subcategory with the most entries\n",
    "most_common_subcategory = df[df['category'] == most_common_category]['subcategory'].value_counts().idxmax()\n",
    "# Print the results with the number of entries for the category and subcategory\n",
    "print(f\"The category with the most entries is '{most_common_category}' with {df['category'].value_counts().max()} entries.\")\n",
    "\n",
    "# Print the results with the number of entries for the category and subcategory\n",
    "print(f\"The subcategory with the most entries is '{most_common_subcategory}' with {df[df['category'] == most_common_category]['subcategory'].value_counts().max()} entries.\")"
   ]
  },
  {
   "cell_type": "code",
   "execution_count": 49,
   "id": "2db94379",
   "metadata": {},
   "outputs": [
    {
     "name": "stdout",
     "output_type": "stream",
     "text": [
      "The five clients with the most entries are:\n",
      "Client ID: 33615, Jessica Reyes, Number of Entries: 220\n",
      "Client ID: 66037, Angela Everett, Number of Entries: 211\n",
      "Client ID: 46820, Bryan Myers, Number of Entries: 209\n",
      "Client ID: 38378, Alexandra Young, Number of Entries: 207\n",
      "Client ID: 24741, Kendra Garrett, Number of Entries: 207\n"
     ]
    }
   ],
   "source": [
    "# Which five clients had the most entries in the data?\n",
    "\n",
    "top_five_clients = df['client_id'].value_counts().head(5)\n",
    "\n",
    "# Print the results and include the first name, last name and client ID of the clients\n",
    "print(\"The five clients with the most entries are:\")\n",
    "for client_id, count in top_five_clients.items():\n",
    "    client_data = df[df['client_id'] == client_id].iloc[0]\n",
    "    print(f\"Client ID: {client_id}, {client_data['first']} {client_data['last']}, Number of Entries: {count}\")\n"
   ]
  },
  {
   "cell_type": "code",
   "execution_count": 52,
   "id": "a6635601",
   "metadata": {},
   "outputs": [
    {
     "name": "stdout",
     "output_type": "stream",
     "text": [
      "[33615, 66037, 46820, 38378, 24741]\n"
     ]
    }
   ],
   "source": [
    "# Store the client ids of those top 5 clients in a list.\n",
    "top_five_client_ids = top_five_clients.index.tolist()\n",
    "print(top_five_client_ids)\n"
   ]
  },
  {
   "cell_type": "code",
   "execution_count": 62,
   "id": "c88b8a3e",
   "metadata": {},
   "outputs": [
    {
     "name": "stdout",
     "output_type": "stream",
     "text": [
      "The client with the most entries ordered was client_id 33615, Jessica Reyes, for a total of 64313 units ordered.\n"
     ]
    }
   ],
   "source": [
    "# Identify the client with the most entries\n",
    "client_with_most_entries = df[df['client_id'] == df['client_id'].value_counts().idxmax()]\n",
    "\n",
    "# Calculate the total units ordered by the client\n",
    "total_units_ordered = client_with_most_entries['qty'].sum()\n",
    "\n",
    "# Print the result\n",
    "print(f\"The client with the most entries ordered was client_id\\\n",
    " {client_with_most_entries.iloc[0]['client_id']},\\\n",
    " {client_with_most_entries.iloc[0]['first']} {client_with_most_entries.iloc[0]['last']},\\\n",
    " for a total of {total_units_ordered} units ordered.\")\n",
    "\n"
   ]
  },
  {
   "cell_type": "markdown",
   "id": "257fcd7d",
   "metadata": {},
   "source": [
    "## Part 2: Transform the Data\n",
    "Do we know that this client spent the more money than client 66037? If not, how would we find out? Transform the data using the steps below to prepare it for analysis."
   ]
  },
  {
   "cell_type": "code",
   "execution_count": 66,
   "id": "0c25c4a8",
   "metadata": {},
   "outputs": [
    {
     "name": "stdout",
     "output_type": "stream",
     "text": [
      "   unit_price  qty   subtotal\n",
      "0     1096.80  105  115164.00\n",
      "1       24.95   21     523.95\n",
      "2       13.52   39     527.28\n",
      "3       36.42   29    1056.18\n",
      "4      195.10   20    3902.00\n"
     ]
    }
   ],
   "source": [
    "# Create a column named subtotal that calculates the subtotal for each line using the unit_price and the qty.\n",
    "# Calculate the subtotal for each line\n",
    "# Create a new column named 'subtotal' that multiplies the 'unit_price' by the 'qty'\n",
    "# Display the 'unit_price', 'qty', and 'subtotal' columns\n",
    "\n",
    "df['subtotal'] = df['unit_price'] * df['qty']\n",
    "print(df[['unit_price', 'qty', 'subtotal']].head()) \n",
    "\n",
    "\n"
   ]
  },
  {
   "cell_type": "code",
   "execution_count": 68,
   "id": "ac9dafc8",
   "metadata": {},
   "outputs": [
    {
     "name": "stdout",
     "output_type": "stream",
     "text": [
      "       unit_price  unit_weight   qty  total_weight  shipping_price\n",
      "0         1096.80         7.50   105        787.50         5512.50\n",
      "1           24.95         1.49    21         31.29          312.90\n",
      "2           13.52         1.68    39         65.52          458.64\n",
      "3           36.42         1.23    29         35.67          356.70\n",
      "4          195.10        46.43    20        928.60         6500.20\n",
      "...           ...          ...   ...           ...             ...\n",
      "54634       83.13         2.25    33         74.25          519.75\n",
      "54635      206.59        11.70    47        549.90         3849.30\n",
      "54636       65.66         4.16   475       1976.00        13832.00\n",
      "54637        1.48        18.04   112       2020.48        14143.36\n",
      "54638        3.01         2.07  1031       2134.17        14939.19\n",
      "\n",
      "[54639 rows x 5 columns]\n"
     ]
    }
   ],
   "source": [
    "# Create a column for shipping price.\n",
    "# Assume a shipping price of $7 per pound for orders over 50 pounds and $10 per pound for items 50 pounds or under.\n",
    "# Calculate the shipping price for each line and store the results in a new column named 'shipping_price'.\n",
    "# Display the 'unit_price', 'unit_weight', 'qty', 'total_weight' and 'shipping_price' columns.\n",
    "\n",
    "# Calculate the total weight for each line\n",
    "df['total_weight'] = df['unit_weight'] * df['qty']\n",
    "\n",
    "# Calculate the shipping price based on the total weight\n",
    "df['shipping_price'] = df['total_weight'].apply(lambda x: 7 * x if x > 50 else 10 * x)\n",
    "\n",
    "# Display the specified columns\n",
    "print(df[['unit_price', 'unit_weight', 'qty', 'total_weight', 'shipping_price']])\n"
   ]
  },
  {
   "cell_type": "code",
   "execution_count": 70,
   "id": "77f42c67",
   "metadata": {},
   "outputs": [
    {
     "name": "stdout",
     "output_type": "stream",
     "text": [
      "    subtotal  shipping_price    total_price\n",
      "0  115164.00         5512.50  131839.076250\n",
      "1     523.95          312.90     914.258625\n",
      "2     527.28          458.64    1077.117600\n",
      "3    1056.18          356.70    1543.571400\n",
      "4    3902.00         6500.20   11364.403500\n"
     ]
    }
   ],
   "source": [
    "# Create a column for the total price using the subtotal and the shipping price along with a sales tax of 9.25%\n",
    "# Calculate the total price for each line\n",
    "# Create a new column named 'total_price' that adds the 'subtotal' and 'shipping_price' columns and multiplies the result by 1.0925\n",
    "# Display the 'subtotal', 'shipping_price', and 'total_price' columns\n",
    "\n",
    "# Calculate the total price for each line\n",
    "df['total_price'] = (df['subtotal'] + df['shipping_price']) * 1.0925\n",
    "\n",
    "# Display the 'subtotal', 'shipping_price', and 'total_price' columns\n",
    "print(df[['subtotal', 'shipping_price', 'total_price']].head())"
   ]
  },
  {
   "cell_type": "code",
   "execution_count": 82,
   "id": "c82ad275",
   "metadata": {},
   "outputs": [
    {
     "name": "stdout",
     "output_type": "stream",
     "text": [
      "       unit_cost   qty  shipping_price  total_price  total_cost\n",
      "0         762.71   105         5512.50    131839.08    85597.05\n",
      "1          15.09    21          312.90       914.26      629.79\n",
      "2           7.86    39          458.64      1077.12      765.18\n",
      "3          24.85    29          356.70      1543.57     1077.35\n",
      "4         108.17    20         6500.20     11364.40     8663.60\n",
      "...          ...   ...             ...          ...         ...\n",
      "54634      51.60    33          519.75      3564.87     2222.55\n",
      "54635     175.46    47         3849.30     14813.24    12095.92\n",
      "54636      57.31   475        13832.00     49184.90    41054.25\n",
      "54637       1.22   112        14143.36     15632.71    14280.00\n",
      "54638       1.61  1031        14939.19     19711.43    16599.10\n",
      "\n",
      "[54639 rows x 5 columns]\n"
     ]
    }
   ],
   "source": [
    "# Create a column for the cost of each line using unit cost, qty, and\n",
    "# shipping price (assume the shipping cost is exactly what is charged to the client).\n",
    "\n",
    "# Round the 'total_price' column to 2 decimal places\n",
    "df['total_price'] = df['total_price'].round(2)\n",
    "\n",
    "# Calculate the total cost for each line\n",
    "df['total_cost'] = (df['unit_cost'] * df['qty']) + df['shipping_price']\n",
    "\n",
    "# Display 'unit_cost', 'qty', 'shipping_price', and 'total_cost'\n",
    "print(df[['unit_cost', 'qty', 'shipping_price', 'total_price', 'total_cost']])\n",
    "\n"
   ]
  },
  {
   "cell_type": "code",
   "execution_count": 85,
   "id": "e2389018",
   "metadata": {},
   "outputs": [
    {
     "name": "stdout",
     "output_type": "stream",
     "text": [
      "   order_id  total_price  total_cost    profit\n",
      "0   8953482    131839.08    85597.05  46242.03\n",
      "1   8069089       914.26      629.79    284.47\n",
      "2   1902144      1077.12      765.18    311.94\n",
      "3   9031802      1543.57     1077.35    466.22\n",
      "4   1322274     11364.40     8663.60   2700.80\n"
     ]
    }
   ],
   "source": [
    "# Create a column for the profit of each line using total_cost and total_price\n",
    "# Calculate the profit for each line\n",
    "\n",
    "# Create a new column named 'profit' that subtracts the 'total_cost' from the 'total_price'\n",
    "df['profit'] = df['total_price'] - df['total_cost']\n",
    "\n",
    "# Display the 'total_price', 'total_cost', and 'profit' columns\n",
    "print(df[['order_id', 'total_price', 'total_cost', 'profit']].head())\n",
    "\n",
    "\n",
    "\n"
   ]
  },
  {
   "cell_type": "markdown",
   "id": "ef6f62b1",
   "metadata": {},
   "source": [
    "## Part 3: Confirm your work\n",
    "You have email receipts showing that the total prices for 3 orders. Confirm that your calculations match the receipts. Remember, each order has multiple lines.\n",
    "\n",
    "Order ID 2742071 had a total price of \\$152,811.89\n",
    "\n",
    "Order ID 2173913 had a total price of \\$162,388.71\n",
    "\n",
    "Order ID 6128929 had a total price of \\$923,441.25\n"
   ]
  },
  {
   "cell_type": "code",
   "execution_count": 96,
   "id": "c0e5d68e",
   "metadata": {},
   "outputs": [
    {
     "name": "stdout",
     "output_type": "stream",
     "text": [
      "Order 2173913 total: $162,388.71\n",
      "Order 2742071 total: $152,811.89\n",
      "Order 6128929 total: $923,441.25\n"
     ]
    }
   ],
   "source": [
    "# Check your work using the totals above\n",
    "# locate the following order IDs: 2742071, 2173913, 6128929\n",
    "# display the ['order_id', 'total_price', 'total_cost', 'profit']\n",
    "\n",
    "order_ids = [2742071, 2173913, 6128929]\n",
    "filtered_df = df.loc[df['order_id'].isin(order_ids), ['order_id', 'total_price', 'total_cost', 'profit']]\n",
    "\n",
    "# sum the total_price column, grouping by order_id\n",
    "total_order_price_subset = filtered_df.groupby('order_id')['total_price'].sum()\n",
    "total_order_price = df.groupby('order_id')['total_price'].sum()\n",
    "\n",
    "# display the results\n",
    "for order_id, total in total_order_price_subset.items():\n",
    "    print(f\"Order {order_id} total: ${total:,.2f}\")\n",
    "\n"
   ]
  },
  {
   "cell_type": "markdown",
   "id": "b94d58ab",
   "metadata": {},
   "source": [
    "## Part 4: Summarize and Analyze\n",
    "Use the new columns with confirmed values to find the following information."
   ]
  },
  {
   "cell_type": "code",
   "execution_count": 108,
   "id": "7c005f34",
   "metadata": {},
   "outputs": [
    {
     "name": "stdout",
     "output_type": "stream",
     "text": [
      "Client 24741 total spent: $82,268,892.02\n",
      "Client 33615 total spent: $8,377,308.52\n",
      "Client 38378 total spent: $12,906,550.87\n",
      "Client 46820 total spent: $9,743,794.36\n",
      "Client 66037 total spent: $10,259,514.79\n"
     ]
    }
   ],
   "source": [
    "# How much did each of the top 5 clients by quantity spend? Check your work from Part 1 for client ids.\n",
    "\n",
    "\n",
    "#filtered_df = df.loc[df['client_id'].isin(top_five_client_ids), ['client_id', 'order_id', 'total_price', 'total_cost', 'profit']]\n",
    "filtered_df = df.loc[df['client_id'].isin(top_five_client_ids)]\n",
    "\n",
    "total_spent_by_top_five_clients = filtered_df.groupby('client_id')['total_price'].sum()\n",
    "\n",
    "# display the results\n",
    "for client_id, total in total_spent_by_top_five_clients.items():\n",
    "    print(f\"Client {client_id} total spent: ${total:,.2f}\")\n",
    "\n"
   ]
  },
  {
   "cell_type": "code",
   "execution_count": 193,
   "id": "81b6e4d2",
   "metadata": {},
   "outputs": [
    {
     "name": "stdout",
     "output_type": "stream",
     "text": [
      "   client_id  tot_units_purch  tot_shipping_price      tot_rev   total_cost  \\\n",
      "0      24741           239862          5126448.37  82268892.02  45688899.71   \n",
      "1      33615            64313          1828984.89   8377308.52   6175313.91   \n",
      "2      38378            73667          3429455.40  12906550.87   9634720.98   \n",
      "3      46820            75768          1601448.84   9743794.36   7007191.64   \n",
      "4      66037            43018          1395151.85  10259514.79   7004482.98   \n",
      "\n",
      "    tot_profit  \n",
      "0  36579992.31  \n",
      "1   2201994.61  \n",
      "2   3271829.89  \n",
      "3   2736602.72  \n",
      "4   3255031.81  \n"
     ]
    }
   ],
   "source": [
    "# Create a summary DataFrame showing the totals for the for the top 5 clients with the following information:\n",
    "# total units purchased, total shipping price, total revenue, and total profit. \n",
    "\n",
    "# Filter the DataFrame to include only the top 5 clients\n",
    "top_five_clients_df = df.loc[df['client_id'].isin(top_five_client_ids)]\n",
    "\n",
    "# Group by client_id and aggregate the required columns\n",
    "summary_df = top_five_clients_df.groupby('client_id').agg(\n",
    "    tot_units_purch=('qty', 'sum'),\n",
    "    tot_shipping_price=('shipping_price', 'sum'),\n",
    "    tot_rev=('total_price', 'sum'),\n",
    "    total_cost=('total_cost', 'sum'),\n",
    "    tot_profit=('profit', 'sum')\n",
    ").reset_index()\n",
    "\n",
    "# Display the summary DataFrame\n",
    "print(summary_df)"
   ]
  },
  {
   "cell_type": "code",
   "execution_count": 195,
   "id": "7be02867",
   "metadata": {},
   "outputs": [
    {
     "name": "stdout",
     "output_type": "stream",
     "text": [
      "   Client ID   Units Shipping (millions) Total Revenue (millions)  \\\n",
      "0      24741  239862          $5.126448M              $82.268892M   \n",
      "1      33615   64313          $1.828985M               $8.377309M   \n",
      "2      38378   73667          $3.429455M              $12.906551M   \n",
      "3      46820   75768          $1.601449M               $9.743794M   \n",
      "4      66037   43018          $1.395152M              $10.259515M   \n",
      "\n",
      "  Total Cost (millions) Total Profit (millions)  \n",
      "0           $45.688900M             $36.579992M  \n",
      "1            $6.175314M              $2.201995M  \n",
      "2            $9.634721M              $3.271830M  \n",
      "3            $7.007192M              $2.736603M  \n",
      "4            $7.004483M              $3.255032M  \n"
     ]
    }
   ],
   "source": [
    "# Format the data and rename the columns to names suitable for presentation.\n",
    "\n",
    "# Define the money columns. \n",
    "money_columns = ['tot_shipping_price', 'tot_rev', 'total_cost', 'tot_profit']\n",
    "\n",
    "# Define a function that converts a dollar amount to millions.\n",
    "def currency_format_millions(value):\n",
    "    return f\"${value/1000000:.6f}M\"\n",
    "\n",
    "# recreate the summary DataFrame for convenience in case I rerun the code\n",
    "summary_df = top_five_clients_df.groupby('client_id').agg(\n",
    "    tot_units_purch=('qty', 'sum'),\n",
    "    tot_shipping_price=('shipping_price', 'sum'),\n",
    "    tot_rev=('total_price', 'sum'),\n",
    "    total_cost=('total_cost', 'sum'),\n",
    "    tot_profit=('profit', 'sum')\n",
    ").reset_index()\n",
    "\n",
    "# Apply the currency_format_millions function to only the money columns\n",
    "summary_df[money_columns] = summary_df[money_columns].map(currency_format_millions)\n",
    "\n",
    "# Rename the columns to reflect the change in the money format.\n",
    "summary_df = summary_df.rename(columns={'client_id': 'Client ID', 'tot_units_purch': 'Units', 'tot_shipping_price': 'Shipping (millions)', 'tot_rev': 'Total Revenue (millions)', 'total_cost': 'Total Cost (millions)', 'tot_profit': 'Total Profit (millions)'})\n",
    "\n",
    "# Display the summary DataFrame to verify the changes\n",
    "# print(summary_df)\n",
    "\n",
    "# Rename the columns to reflect the change in the money format. \n",
    "# summary_df = top_five_clients_df.groupby('client_id').agg(\n",
    "#     Units=('qty', 'sum'),\n",
    "#     Shipping=('shipping_price', 'sum'),\n",
    "#     tot_rev=('total_price', 'sum'),\n",
    "#     total_cost=('total_cost', 'sum'),\n",
    "#     tot_profit=('profit', 'sum')\n",
    "# ).reset_index().rename(columns={'client_id': 'Client ID', 'Shipping': 'Shipping (millions)', 'tot_rev': 'Total Revenue (millions)', 'total_cost': 'Total Cost (millions)', 'tot_profit': 'Total Profit (millions)'})\n",
    "\n",
    "# Display the summary DataFrame\n",
    "print(summary_df)\n",
    "\n",
    "\n"
   ]
  },
  {
   "cell_type": "code",
   "execution_count": 198,
   "id": "8ead0986",
   "metadata": {},
   "outputs": [
    {
     "name": "stdout",
     "output_type": "stream",
     "text": [
      "   Client ID   Units Shipping (millions) Total Revenue (millions)  \\\n",
      "0      24741  239862          $5.126448M              $82.268892M   \n",
      "2      38378   73667          $3.429455M              $12.906551M   \n",
      "4      66037   43018          $1.395152M              $10.259515M   \n",
      "3      46820   75768          $1.601449M               $9.743794M   \n",
      "1      33615   64313          $1.828985M               $8.377309M   \n",
      "\n",
      "  Total Cost (millions) Total Profit (millions)  \n",
      "0           $45.688900M             $36.579992M  \n",
      "2            $9.634721M              $3.271830M  \n",
      "4            $7.004483M              $3.255032M  \n",
      "3            $7.007192M              $2.736603M  \n",
      "1            $6.175314M              $2.201995M  \n"
     ]
    }
   ],
   "source": [
    "# Sort the updated data by \"Total Profit (millions)\" form highest to lowest and assign the sort to a new DatFrame.\n",
    "sorted_summary_df = summary_df.sort_values('Total Profit (millions)', ascending=False)\n",
    "print(sorted_summary_df)\n"
   ]
  },
  {
   "cell_type": "code",
   "execution_count": null,
   "id": "87e0e7f8-b60e-4e50-ab07-c36b6deed513",
   "metadata": {},
   "outputs": [],
   "source": []
  }
 ],
 "metadata": {
  "kernelspec": {
   "display_name": "Python 3 (ipykernel)",
   "language": "python",
   "name": "python3"
  },
  "language_info": {
   "codemirror_mode": {
    "name": "ipython",
    "version": 3
   },
   "file_extension": ".py",
   "mimetype": "text/x-python",
   "name": "python",
   "nbconvert_exporter": "python",
   "pygments_lexer": "ipython3",
   "version": "3.10.14"
  }
 },
 "nbformat": 4,
 "nbformat_minor": 5
}
